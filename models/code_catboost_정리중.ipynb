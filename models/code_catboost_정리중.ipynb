{
 "cells": [
  {
   "cell_type": "markdown",
   "id": "017e9265",
   "metadata": {},
   "source": [
    "# 영업 성공 여부 분류 경진대회"
   ]
  },
  {
   "cell_type": "markdown",
   "id": "acdab431",
   "metadata": {},
   "source": [
    "## 1. 데이터 확인"
   ]
  },
  {
   "cell_type": "markdown",
   "id": "2b8341e8",
   "metadata": {},
   "source": [
    "### 1) 필수 라이브러리"
   ]
  },
  {
   "cell_type": "code",
   "execution_count": 1,
   "id": "a315cc58",
   "metadata": {},
   "outputs": [],
   "source": [
    "import pandas as pd\n",
    "import numpy as np\n",
    "from sklearn.metrics import (\n",
    "    accuracy_score,\n",
    "    confusion_matrix,\n",
    "    f1_score,\n",
    "    precision_score,\n",
    "    recall_score,\n",
    ")\n",
    "from sklearn.model_selection import train_test_split\n",
    "from sklearn.tree import DecisionTreeClassifier\n",
    "import re\n",
    "from collections import Counter"
   ]
  },
  {
   "cell_type": "markdown",
   "id": "412f98cc",
   "metadata": {},
   "source": [
    "### 2) 데이터 셋 읽어오기"
   ]
  },
  {
   "cell_type": "code",
   "execution_count": 2,
   "id": "7ada941e",
   "metadata": {},
   "outputs": [],
   "source": [
    "df_train = pd.read_csv(\"train.csv\") # 학습용 데이터\n",
    "df_test = pd.read_csv(\"submission.csv\") # 테스트 데이터(제출파일의 데이터)"
   ]
  },
  {
   "cell_type": "code",
   "execution_count": 3,
   "id": "be9af12a",
   "metadata": {
    "scrolled": false
   },
   "outputs": [
    {
     "data": {
      "text/html": [
       "<div>\n",
       "<style scoped>\n",
       "    .dataframe tbody tr th:only-of-type {\n",
       "        vertical-align: middle;\n",
       "    }\n",
       "\n",
       "    .dataframe tbody tr th {\n",
       "        vertical-align: top;\n",
       "    }\n",
       "\n",
       "    .dataframe thead th {\n",
       "        text-align: right;\n",
       "    }\n",
       "</style>\n",
       "<table border=\"1\" class=\"dataframe\">\n",
       "  <thead>\n",
       "    <tr style=\"text-align: right;\">\n",
       "      <th></th>\n",
       "      <th>bant_submit</th>\n",
       "      <th>customer_country</th>\n",
       "      <th>business_unit</th>\n",
       "      <th>com_reg_ver_win_rate</th>\n",
       "      <th>customer_idx</th>\n",
       "      <th>customer_type</th>\n",
       "      <th>enterprise</th>\n",
       "      <th>historical_existing_cnt</th>\n",
       "      <th>id_strategic_ver</th>\n",
       "      <th>it_strategic_ver</th>\n",
       "      <th>...</th>\n",
       "      <th>response_corporate</th>\n",
       "      <th>expected_timeline</th>\n",
       "      <th>ver_cus</th>\n",
       "      <th>ver_pro</th>\n",
       "      <th>ver_win_rate_x</th>\n",
       "      <th>ver_win_ratio_per_bu</th>\n",
       "      <th>business_area</th>\n",
       "      <th>business_subarea</th>\n",
       "      <th>lead_owner</th>\n",
       "      <th>is_converted</th>\n",
       "    </tr>\n",
       "  </thead>\n",
       "  <tbody>\n",
       "    <tr>\n",
       "      <th>0</th>\n",
       "      <td>1.0</td>\n",
       "      <td>/Quezon City/Philippines</td>\n",
       "      <td>AS</td>\n",
       "      <td>0.066667</td>\n",
       "      <td>32160</td>\n",
       "      <td>End-Customer</td>\n",
       "      <td>Enterprise</td>\n",
       "      <td>NaN</td>\n",
       "      <td>NaN</td>\n",
       "      <td>NaN</td>\n",
       "      <td>...</td>\n",
       "      <td>LGEPH</td>\n",
       "      <td>less than 3 months</td>\n",
       "      <td>1</td>\n",
       "      <td>0</td>\n",
       "      <td>0.003079</td>\n",
       "      <td>0.026846</td>\n",
       "      <td>corporate / office</td>\n",
       "      <td>Engineering</td>\n",
       "      <td>0</td>\n",
       "      <td>True</td>\n",
       "    </tr>\n",
       "    <tr>\n",
       "      <th>1</th>\n",
       "      <td>1.0</td>\n",
       "      <td>/PH-00/Philippines</td>\n",
       "      <td>AS</td>\n",
       "      <td>0.066667</td>\n",
       "      <td>23122</td>\n",
       "      <td>End-Customer</td>\n",
       "      <td>Enterprise</td>\n",
       "      <td>12.0</td>\n",
       "      <td>NaN</td>\n",
       "      <td>NaN</td>\n",
       "      <td>...</td>\n",
       "      <td>LGEPH</td>\n",
       "      <td>less than 3 months</td>\n",
       "      <td>1</td>\n",
       "      <td>0</td>\n",
       "      <td>0.003079</td>\n",
       "      <td>0.026846</td>\n",
       "      <td>corporate / office</td>\n",
       "      <td>Advertising</td>\n",
       "      <td>1</td>\n",
       "      <td>True</td>\n",
       "    </tr>\n",
       "    <tr>\n",
       "      <th>2</th>\n",
       "      <td>1.0</td>\n",
       "      <td>/Kolkata /India</td>\n",
       "      <td>AS</td>\n",
       "      <td>0.088889</td>\n",
       "      <td>1755</td>\n",
       "      <td>End-Customer</td>\n",
       "      <td>Enterprise</td>\n",
       "      <td>144.0</td>\n",
       "      <td>NaN</td>\n",
       "      <td>NaN</td>\n",
       "      <td>...</td>\n",
       "      <td>LGEIL</td>\n",
       "      <td>less than 3 months</td>\n",
       "      <td>1</td>\n",
       "      <td>0</td>\n",
       "      <td>0.003079</td>\n",
       "      <td>0.026846</td>\n",
       "      <td>corporate / office</td>\n",
       "      <td>Construction</td>\n",
       "      <td>2</td>\n",
       "      <td>True</td>\n",
       "    </tr>\n",
       "    <tr>\n",
       "      <th>3</th>\n",
       "      <td>1.0</td>\n",
       "      <td>/Bhubaneswar/India</td>\n",
       "      <td>AS</td>\n",
       "      <td>0.088889</td>\n",
       "      <td>4919</td>\n",
       "      <td>End-Customer</td>\n",
       "      <td>Enterprise</td>\n",
       "      <td>NaN</td>\n",
       "      <td>NaN</td>\n",
       "      <td>NaN</td>\n",
       "      <td>...</td>\n",
       "      <td>LGEIL</td>\n",
       "      <td>less than 3 months</td>\n",
       "      <td>1</td>\n",
       "      <td>0</td>\n",
       "      <td>0.003079</td>\n",
       "      <td>0.026846</td>\n",
       "      <td>corporate / office</td>\n",
       "      <td>IT/Software</td>\n",
       "      <td>3</td>\n",
       "      <td>True</td>\n",
       "    </tr>\n",
       "    <tr>\n",
       "      <th>4</th>\n",
       "      <td>1.0</td>\n",
       "      <td>/Hyderabad/India</td>\n",
       "      <td>AS</td>\n",
       "      <td>0.088889</td>\n",
       "      <td>17126</td>\n",
       "      <td>Specifier/ Influencer</td>\n",
       "      <td>Enterprise</td>\n",
       "      <td>NaN</td>\n",
       "      <td>NaN</td>\n",
       "      <td>NaN</td>\n",
       "      <td>...</td>\n",
       "      <td>LGEIL</td>\n",
       "      <td>less than 3 months</td>\n",
       "      <td>0</td>\n",
       "      <td>0</td>\n",
       "      <td>0.003079</td>\n",
       "      <td>0.026846</td>\n",
       "      <td>corporate / office</td>\n",
       "      <td>NaN</td>\n",
       "      <td>4</td>\n",
       "      <td>True</td>\n",
       "    </tr>\n",
       "  </tbody>\n",
       "</table>\n",
       "<p>5 rows × 29 columns</p>\n",
       "</div>"
      ],
      "text/plain": [
       "   bant_submit          customer_country business_unit  com_reg_ver_win_rate  \\\n",
       "0          1.0  /Quezon City/Philippines            AS              0.066667   \n",
       "1          1.0        /PH-00/Philippines            AS              0.066667   \n",
       "2          1.0           /Kolkata /India            AS              0.088889   \n",
       "3          1.0        /Bhubaneswar/India            AS              0.088889   \n",
       "4          1.0          /Hyderabad/India            AS              0.088889   \n",
       "\n",
       "   customer_idx          customer_type  enterprise  historical_existing_cnt  \\\n",
       "0         32160           End-Customer  Enterprise                      NaN   \n",
       "1         23122           End-Customer  Enterprise                     12.0   \n",
       "2          1755           End-Customer  Enterprise                    144.0   \n",
       "3          4919           End-Customer  Enterprise                      NaN   \n",
       "4         17126  Specifier/ Influencer  Enterprise                      NaN   \n",
       "\n",
       "   id_strategic_ver  it_strategic_ver  ...  response_corporate  \\\n",
       "0               NaN               NaN  ...               LGEPH   \n",
       "1               NaN               NaN  ...               LGEPH   \n",
       "2               NaN               NaN  ...               LGEIL   \n",
       "3               NaN               NaN  ...               LGEIL   \n",
       "4               NaN               NaN  ...               LGEIL   \n",
       "\n",
       "    expected_timeline  ver_cus ver_pro ver_win_rate_x ver_win_ratio_per_bu  \\\n",
       "0  less than 3 months        1       0       0.003079             0.026846   \n",
       "1  less than 3 months        1       0       0.003079             0.026846   \n",
       "2  less than 3 months        1       0       0.003079             0.026846   \n",
       "3  less than 3 months        1       0       0.003079             0.026846   \n",
       "4  less than 3 months        0       0       0.003079             0.026846   \n",
       "\n",
       "        business_area business_subarea lead_owner is_converted  \n",
       "0  corporate / office      Engineering          0         True  \n",
       "1  corporate / office      Advertising          1         True  \n",
       "2  corporate / office     Construction          2         True  \n",
       "3  corporate / office      IT/Software          3         True  \n",
       "4  corporate / office              NaN          4         True  \n",
       "\n",
       "[5 rows x 29 columns]"
      ]
     },
     "execution_count": 3,
     "metadata": {},
     "output_type": "execute_result"
    }
   ],
   "source": [
    "df_train.head() # 학습용 데이터 살펴보기"
   ]
  },
  {
   "cell_type": "code",
   "execution_count": 4,
   "id": "bb04936c",
   "metadata": {},
   "outputs": [
    {
     "data": {
      "text/plain": [
       "40882"
      ]
     },
     "execution_count": 4,
     "metadata": {},
     "output_type": "execute_result"
    }
   ],
   "source": [
    "df_train['business_area'].isnull().sum()"
   ]
  },
  {
   "cell_type": "markdown",
   "id": "cc2c9b08",
   "metadata": {},
   "source": [
    "## 2. 피처 클렌징 & 엔지니어링"
   ]
  },
  {
   "cell_type": "markdown",
   "id": "3aa21c76",
   "metadata": {},
   "source": [
    "### 1) 컬럼별\n"
   ]
  },
  {
   "cell_type": "markdown",
   "id": "c47b407e",
   "metadata": {},
   "source": [
    "#### customer_country"
   ]
  },
  {
   "cell_type": "code",
   "execution_count": 5,
   "id": "55b441f8",
   "metadata": {},
   "outputs": [],
   "source": [
    "# 1. customer_country\n",
    "# country 전처리 함수\n",
    "\n",
    "def pp_customer_country(text):\n",
    "    country_map = {\n",
    "        'u.s.a': ['us', 'usa', 'united states', 'ave', 'dr.', 'dr ', 'drive', 'st', 'ct', 'nevada', 'diablo', 'enterprise dr', 'east fl', 'maxine dr', 'mishawum', 'montour', 'kimball', 'highlands', 'hempston', 'bucaramanga', 'florida', 'hampshire', 'ny', 'ohio', 'roadbostonma', 'ca'],\n",
    "        'italy': ['italy', 'bari'],\n",
    "        'u.a.e': ['dubai', 'saudi', 'uae'],\n",
    "        'antigua and barbuda': ['antigua'],\n",
    "        'turkey': ['türkiye'],\n",
    "        'brazil': ['são', 'capão', 'aparecida', 'joão pessoa', 'horizonte', 'cuiabá', 'dourados', 'manaus', 'recife', 'janeiro', 'rj', 'paulo'],\n",
    "        'spain': ['madrid', 'elche', 'agost', 'caceres', 'canarias', 'valencia'],\n",
    "        'netherlands': ['netherlands', 'curaçao', 'aruba', 'maarten'],\n",
    "        'vietnam': ['ha noi'],\n",
    "        'congo': ['congo'],\n",
    "        'colombia': ['colombia', 'barranquilla', 'carrera', 'cartagena'],\n",
    "        'india': ['indore', 'lucknow', 'chennai', 'anand', 'bangalore', 'bhilwara', 'gujarat', 'gurgaon', 'hyderabad', 'kerela', 'mumbai', 'odisha', 'pune', 'telangana', 'pradesh'],\n",
    "        'greece': ['θ'],\n",
    "        'nigeria': ['benin'],\n",
    "        'saint kitts and nevis': ['st kitts'],\n",
    "        'nan': ['', 'nd', 'br', '5555', 'a']\n",
    "    }\n",
    "\n",
    "    text = str(text).lower().split('/')[-1].strip()\n",
    "\n",
    "    for country, keys in country_map.items():\n",
    "        for k in keys:\n",
    "            if k in text:\n",
    "                return country\n",
    "        \n",
    "    if '@' in text:\n",
    "        return 'email'\n",
    "\n",
    "    if re.search(r'\\d{6,}', text) or re.search(r'\\d{5,}', text):\n",
    "        return 'u.s.a'\n",
    "\n",
    "#     return text\n",
    "\n",
    "# train, test셋에 전처리 함수 적용\n",
    "df_train['customer_country'] = df_train['customer_country'].apply(pp_customer_country)\n",
    "df_test['customer_country'] = df_test['customer_country'].apply(pp_customer_country)"
   ]
  },
  {
   "cell_type": "markdown",
   "id": "f95f56cc",
   "metadata": {},
   "source": [
    "#### customer_type, customer_job"
   ]
  },
  {
   "cell_type": "markdown",
   "id": "7406660d",
   "metadata": {},
   "source": [
    "- 수정 버전"
   ]
  },
  {
   "cell_type": "code",
   "execution_count": 6,
   "id": "2a42bbb4",
   "metadata": {},
   "outputs": [],
   "source": [
    "def split_word(temp):\n",
    "    if isinstance(temp, str):  # 문자열인지 확인\n",
    "        temp = [temp]  # 문자열을 리스트로 변환하여 단일 값도 처리 가능하도록 함\n",
    "    result = []\n",
    "    for item in temp:\n",
    "        if isinstance(item, str):  # 문자열인지 다시 확인\n",
    "            if \"/\" in item:\n",
    "                sen_temp = item.split(\"/\")\n",
    "            elif \"&\" in item:\n",
    "                sen_temp = item.split(\"&\")\n",
    "            elif \"_\" in item:\n",
    "                sen_temp = item.split(\"_\")\n",
    "            elif \",\" in item:\n",
    "                sen_temp = item.split(\",\")\n",
    "            elif \".\" in item:\n",
    "                sen_temp = item.split(\".\")\n",
    "            else:\n",
    "                sen_temp = [item]  # 위 조건에 해당되지 않으면 그대로 유지\n",
    "            sen_temp = [word.strip() for word in sen_temp]\n",
    "            result.append(\" \".join(sen_temp))\n",
    "        else:\n",
    "            result.append(item)  # 문자열이 아닌 경우 그대로 유지\n",
    "    return result\n"
   ]
  },
  {
   "cell_type": "code",
   "execution_count": 7,
   "id": "a993f36c",
   "metadata": {},
   "outputs": [],
   "source": [
    "df_train.loc[:,'customer_job']= split_word(df_train['customer_job'])"
   ]
  },
  {
   "cell_type": "code",
   "execution_count": 8,
   "id": "9f116459",
   "metadata": {},
   "outputs": [],
   "source": [
    "df_test.loc[:,'customer_job']= split_word(df_test['customer_job'])"
   ]
  },
  {
   "cell_type": "code",
   "execution_count": 9,
   "id": "cc06e552",
   "metadata": {},
   "outputs": [],
   "source": [
    "def pp_customer_job(row):\n",
    "    customer_jobs = row['customer_job']\n",
    "    \n",
    "    if isinstance(customer_jobs, str):  # 문자열인지 확인\n",
    "        categories = ['art and design', 'marketing', 'education', 'information technology', 'administrative', 'sales', 'operation', 'program and project management', 'film production', 'finance', 'human resources', 'accounting', 'media and communication', 'legal', 'biomedical', 'construction', 'property', 'R&D','other']\n",
    "        display_keywords = {\n",
    "            'art and design': ['arts', 'art', 'arts and design', 'arte y diseño', 'design', 'artist, lead on equipment selection', 'arte_e_design', 'művészet_és_design'],\n",
    "            'marketing': ['marketing', 'advertising'],\n",
    "            'education': ['educator', 'education', 'teacher'],\n",
    "            'information technology': ['engineer', 'develop', 'si', 'it', 'technology', 'chief eng'],\n",
    "            'administrative': ['administration', 'administración', 'admin', 'administrative'],\n",
    "            'sales' : ['sales', 'sale', 'vendite', 'értékesítés', 'salesman'],\n",
    "            'operation': ['operations executive', 'regional director of operations', 'operations manager', 'director of operations', 'strategy & operations specialist', 'facilities and operations', 'operaciones'],\n",
    "            'program and project management': ['project', 'genel müdür', 'gestión_de_proyectos', 'programm'],\n",
    "            'film production': ['film production'],\n",
    "            'finance': ['finance','finanzas', 'finanzen', 'pénzügy', 'vertrieb'],\n",
    "            'human resources': ['hr','human resources', 'human resource'],\n",
    "            'accounting': ['account', 'accounting', 'account management', 'account manager'],\n",
    "            'media and communication' : ['media', 'media e comunicazione', 'média és kommunikáció', 'medios de comunicación', 'medien und kommunikation', 'communication'],\n",
    "            'legal' : ['legal'],\n",
    "            'biomedical' : ['medical solution', 'healthcare', 'spécialiste_en_imagerie_médicale', 'medical imaging'], \n",
    "            'medical' : ['doctor', 'nurse', 'pathologist', 'profesional de cirugía', 'surgery professional\\u200b', 'radiology professional', 'főorvos', 'clinic', 'radiology_professional', 'profesional de radiología', 'cirugano', 'chirurgien', 'surgery professional'],\n",
    "            'construction' : ['architect', 'project architect', 'contractor' ],\n",
    "            'property' : ['real estate', 'proprietário(a)'],\n",
    "            'R&D': ['research', 'R&D', 'r&d', ],\n",
    "            'other': ['other', 'others', 'otherss']\n",
    "        }\n",
    "\n",
    "        for category in categories:\n",
    "            for keyword in display_keywords[category]:\n",
    "                if keyword in customer_jobs:\n",
    "                    return category\n",
    "\n",
    "    return 'other'\n"
   ]
  },
  {
   "cell_type": "code",
   "execution_count": 10,
   "id": "63003e88",
   "metadata": {},
   "outputs": [],
   "source": [
    "df_train['customer_job'] = df_train.apply(pp_customer_job, axis=1)"
   ]
  },
  {
   "cell_type": "code",
   "execution_count": 11,
   "id": "9e42c6f7",
   "metadata": {},
   "outputs": [],
   "source": [
    "df_test['customer_job'] = df_test.apply(pp_customer_job, axis=1)"
   ]
  },
  {
   "cell_type": "markdown",
   "id": "3e7f6730",
   "metadata": {},
   "source": [
    "- 이전 버전"
   ]
  },
  {
   "cell_type": "code",
   "execution_count": 12,
   "id": "525c61a1",
   "metadata": {},
   "outputs": [],
   "source": [
    "# # customer_type & job\n",
    "# # train 셋\n",
    "\n",
    "# df_train['customer_type'] = df_train['customer_type'].apply(lambda x: str(x).replace('End-Customer','End Customer'))\n",
    "# df_train['customer_type'] = df_train['customer_type'].apply(lambda x: str(x).replace('End-user','End Customer'))\n",
    "# df_train['customer_type'] = df_train['customer_type'].apply(lambda x: str(x).replace('Commercial end-user','End Customer'))\n",
    "# df_train['customer_type'] = df_train['customer_type'].apply(lambda x: str(x).replace('Home Owner','Homeowner'))\n",
    "# df_train['customer_type'] = df_train['customer_type'].apply(lambda x: str(x).replace('Other','others'))\n",
    "# df_train['customer_type'] = df_train['customer_type'].apply(lambda x: str(x).replace('Etc.','others'))\n",
    "\n",
    "# df_train.loc[(df_train['customer_type']=='nan') & (df_train['customer_job'] == 'nan') & (df_train['customer_position'] == 'none'), 'customer_job'] = 'Empthy'\n",
    "# df_train.loc[(df_train['customer_type']=='nan') & (df_train['customer_job'] == 'nan') & (df_train['customer_position'] != 'none'), ['customer_job','customer_type']] = 'others'\n",
    "# df_train.loc[df_train['customer_job'] == 'egyéb', 'customer_job'] = 'others'\n",
    "# df_train.loc[(df_train['customer_type']== 'nan') & (df_train['customer_job'] == 'others'), ['customer_job','customer_type']]= 'others'\n",
    "# df_train.loc[(df_train['customer_type']== 'others') & (df_train['customer_job'] == 'nan'), ['customer_job','customer_type']]= 'others'\n",
    "# df_train.loc[(df_train['customer_job'] == 'otherss') | (df_train['customer_job'] ==  'sonstiges') | (df_train['customer_job'] == 'otro') |(df_train['customer_job'] == 'autres'), 'customer_job']= 'others'\n",
    "\n",
    "# df_train.loc[df_train['customer_job'] == 'engineer', 'customer_job']= 'engineering'\n",
    "# df_train.loc[(df_train['customer_type'] == 'Engineer') | (df_train['customer_type'] == 'HVAC Engineer'), 'customer_job']= 'engineering'\n",
    "# df_train.loc[(df_train['customer_job'] == 'finanzen') | (df_train['customer_job'] == 'pénzügy')  | (df_train['customer_job'] == 'finanzas') | (df_train['customer_job'] ==  'finance executive'), 'customer_job']= 'finance'\n",
    "# df_train.loc[(df_train['customer_job'] == 'product marketing') | (df_train['customer_job'] == 'technical marketing'), 'customer_job']= 'marketing'\n",
    "# df_train.loc[(df_train['customer_job'] == 'event marketing') | (df_train['customer_job'] == 'field marketing') | (df_train['customer_job'] == 'advertising'), 'customer_job']= 'marketing'\n",
    "\n",
    "# df_train.loc[(df_train['customer_job'] == 'vendite') | (df_train['customer_job'] == 'értékesítés') | (df_train['customer_job'] == 'sales engineering') |(df_train['customer_job'] == 'vertrieb'), 'customer_job']= 'sales'\n",
    "\n",
    "# df_train.loc[(df_train['customer_job'] == 'projektmenedzsment\\tprogram and project management') | (df_train['customer_job'] == 'program-_és_projektmenedzsment') | (df_train['customer_job'] == 'programm-_und_projektmanagement') | (df_train['customer_job'] == 'project manager') | (df_train['customer_job'] == 'program_and_project_manager')| (df_train['customer_job'] == 'programm- und projektmanagement'), 'customer_job']= 'program and project management'\n",
    "# df_train.loc[(df_train['customer_job'] == 'designere / budget') | (df_train['customer_job'] == 'genel müdür')| (df_train['customer_job'] == 'program_and_project_management') | (df_train['customer_job'] == 'gestión_de_proyectos'), 'customer_job']= 'program and project management'\n",
    "\n",
    "# df_train.loc[(df_train['customer_job'] == 'public bidder') | (df_train['customer_job'] == 'pénzügy'), 'customer_job']= 'bidder'\n",
    "\n",
    "# df_train.loc[df_train['customer_job'] == 'ranger 2', 'customer_job'] ='ranger'\n",
    "\n",
    "# df_train.loc[(df_train['customer_job']== 'nan') & (df_train['customer_position']== 'none')& (df_train['customer_type']== 'Consultant'), 'customer_job'] = 'consulting'\n",
    "# df_train.loc[(df_train['customer_job'] == 'consultant') | (df_train['customer_job'] == 'consultent') | (df_train['customer_job'] == 'consultant / purchaser')| (df_train['customer_job'] == 'recommend (you recommend specific products or technologies for the solution)'), 'customer_job']= 'consulting'\n",
    "# df_train.loc[(df_train['customer_job']== 'nan') & (df_train['business_subarea']== 'Consulting') , 'customer_job'] = 'consulting'\n",
    "\n",
    "# df_train.loc[(df_train['customer_job']== 'nan') & (df_train['customer_type']== 'Specifier/ Influencer') , 'customer_job'] = 'influencer'\n",
    "\n",
    "# df_train.loc[(df_train['customer_job']== 'nan') & (df_train['customer_type']== 'End Customer')  & (df_train['customer_position']== 'none') , 'customer_job']='Empthy'\n",
    "# df_train.loc[(df_train['customer_job']== 'nan') & (df_train['customer_type']== 'Channel Partner')  , 'customer_job']= 'Channel Partner'\n",
    "\n",
    "# df_train.loc[(df_train['customer_job'] ==  'művészet_és_design') |(df_train['customer_job'] ==  'arte_e_design') |(df_train['customer_job'] == 'artist, lead on equipment selection') |(df_train['customer_job'] == 'design') |(df_train['customer_job'] == 'arts_and_design') |(df_train['customer_job'] == 'arte y diseño') |(df_train['customer_job'] == 'arts and design'), 'customer_job'] = 'art and design'\n",
    "# df_train.loc[(df_train['customer_job'] ==  'graphic/color art') |(df_train['customer_job'] ==  'designer') |(df_train['customer_job'] ==  'colorist') |(df_train['customer_job'] ==  'designer, producer') |(df_train['customer_job'] ==  'lead designer') |(df_train['customer_job'] ==  'designers'), 'customer_job']= 'art and design'  \n",
    "             \n",
    "# df_train.loc[(df_train['customer_job'] == 'media_e_comunicazione') |(df_train['customer_job'] ==  'média_és_kommunikáció') |(df_train['customer_job'] ==  'medios_de_comunicación') |(df_train['customer_job'] == 'medien_und_kommunikation') |(df_train['customer_job'] == 'media_and_communication'), 'customer_job'] = 'media and communication'\n",
    "\n",
    "# df_train.loc[(df_train['customer_job'] == 'educator') | (df_train['customer_job'] ==  'higher education (college & university)'), 'customer_job'] = 'education'\n",
    "\n",
    "# df_train.loc[(df_train['customer_job'] == 'adminisztráció') |(df_train['customer_job'] ==   'amministrativo') |(df_train['customer_job'] ==  'administration') |(df_train['customer_job'] ==  'administración'), 'customer_job'] =  'administrative'\n",
    "\n",
    "# df_train.loc[(df_train['customer_job'] == 'systems designer') |(df_train['customer_job'] == 'information_technology') |(df_train['customer_job'] == 'computing & it') |(df_train['customer_job'] == 'it/software') |(df_train['customer_job'] == 'it')|(df_train['customer_job'] == 'information technology\\u200b')|(df_train['customer_job'] == 'graphic design')|(df_train['customer_job'] == 'it - information technology') |(df_train['customer_job'] == 'collaboration & web apps') |(df_train['customer_job'] == 'it integrator'), 'customer_job'] =  'information technology'\n",
    "# df_train.loc[(df_train['customer_job'] ==  'application development') |(df_train['customer_job'] == 'si') |(df_train['customer_job'] == 'system engineer') |(df_train['customer_job'] == 'developer') |(df_train['customer_job'] == 'design engineer') |(df_train['customer_job'] == 'it dairector') |(df_train['customer_job'] == 'it department') |(df_train['customer_job'] == 'it hardware technician'), 'customer_job'] =  'information technology'\n",
    "# df_train.loc[(df_train['customer_job'] =='director of it') | (df_train['customer_job'] == 'it director')  | (df_train['customer_job'] == 'it manager') | (df_train['customer_job'] ==  'it specialist') |(df_train['customer_job'] == 'systems design') |(df_train['customer_job'] == 'it tech.') |(df_train['customer_job'] == 'it admin') |(df_train['customer_job'] == 'engineering, design, and install') |(df_train['customer_job'] == 'system designer, integrator'), 'customer_job']= 'information technology'\n",
    "\n",
    "# df_train.loc[(df_train['customer_job'] ==  'account exec/manager') |(df_train['customer_job'] ==   'account management') |(df_train['customer_job'] ==  'accounts payable'), 'customer_job'] =  'accounting'\n",
    "\n",
    "# df_train.loc[(df_train['customer_job'] ==  'medical imaging  specialist') |(df_train['customer_job'] ==   'medical solution provider') |(df_train['customer_job'] ==   'medical solution provider\\u200b') |(df_train['customer_job'] ==   'healthcare professionals') |(df_train['customer_job'] ==   'healthcare services') |(df_train['customer_job'] ==   'spécialiste_en_imagerie_médicale') |(df_train['customer_job'] ==   'healthcare_services'), 'customer_job'] =  'biomedical'\n",
    "# df_train.loc[(df_train['customer_job'] ==  'profesional de cirugía') |(df_train['customer_job'] ==   'surgery professional\\u200b') |(df_train['customer_job'] ==    'radiology professional') |(df_train['customer_job'] ==   'főorvos') |(df_train['customer_job'] ==   'clinic')|(df_train['customer_job'] ==  'radiology_professional') |(df_train['customer_job'] ==  'profesional de radiología') |(df_train['customer_job'] ==  'cirugano') |(df_train['customer_job'] ==   'chirurgien') |(df_train['customer_job'] ==   'surgery professional'), 'customer_job'] =  'medical'\n",
    "\n",
    "# df_train.loc[(df_train['customer_job'] == 'üzemeltetés') |(df_train['customer_job'] == 'operations executive') |(df_train['customer_job'] ==  'regional director of operations') |(df_train['customer_job'] ==  'operations manager') |(df_train['customer_job'] == 'director of operations')|(df_train['customer_job'] == 'strategy & operations specialist')|(df_train['customer_job'] ==  'facilities and operations')|(df_train['customer_job'] ==  'operaciones'), 'customer_job'] =  'operations'\n",
    "\n",
    "# df_train.loc[(df_train['customer_job'] == 'real estate') | (df_train['customer_job'] == 'proprietário(a)'), 'customer_job'] = 'property'"
   ]
  },
  {
   "cell_type": "code",
   "execution_count": 13,
   "id": "3ab2cd57",
   "metadata": {},
   "outputs": [],
   "source": [
    "# # test 셋\n",
    "\n",
    "# # customer_type 전처리\n",
    "# df_test['customer_type'] = df_test['customer_type'].apply(lambda x: str(x).replace('End-Customer','End Customer'))\n",
    "# df_test['customer_type'] = df_test['customer_type'].apply(lambda x: str(x).replace('End-user','End Customer'))\n",
    "# df_test['customer_type'] = df_test['customer_type'].apply(lambda x: str(x).replace('Commercial end-user','End Customer'))\n",
    "# df_test['customer_type'] = df_test['customer_type'].apply(lambda x: str(x).replace('Home Owner','Homeowner'))\n",
    "# df_test['customer_type'] = df_test['customer_type'].apply(lambda x: str(x).replace('Other','others'))\n",
    "# df_test['customer_type'] = df_test['customer_type'].apply(lambda x: str(x).replace('Etc.','others'))\n",
    "\n",
    "# # customer_job 전처리\n",
    "# df_test.loc[(df_test['customer_type']=='nan') & (df_test['customer_job'] == 'nan') & (df_test['customer_position'] == 'none'), 'customer_job'] = 'Empthy'\n",
    "# df_test.loc[(df_test['customer_type']=='nan') & (df_test['customer_job'] == 'nan') & (df_test['customer_position'] != 'none'), ['customer_job','customer_type']] = 'others'\n",
    "# df_test.loc[df_test['customer_job'] == 'egyéb', 'customer_job'] = 'others'\n",
    "# df_test.loc[(df_test['customer_type']== 'nan') & (df_test['customer_job'] == 'others'), ['customer_job','customer_type']]= 'others'\n",
    "# df_test.loc[(df_test['customer_type']== 'others') & (df_test['customer_job'] == 'nan'), ['customer_job','customer_type']]= 'others'\n",
    "# df_test.loc[(df_test['customer_job'] == 'otherss') | (df_test['customer_job'] ==  'sonstiges') | (df_test['customer_job'] == 'otro') |(df_test['customer_job'] == 'autres'), 'customer_job']= 'others'\n",
    "# df_test.loc[df_test['customer_job'] == 'engineer', 'customer_job']= 'engineering'\n",
    "# df_test.loc[(df_test['customer_type'] == 'Engineer') | (df_test['customer_type'] == 'HVAC Engineer'), 'customer_job']= 'engineering'\n",
    "# df_test.loc[(df_test['customer_job'] == 'finanzen') | (df_test['customer_job'] == 'pénzügy')  | (df_test['customer_job'] == 'finanzas') | (df_test['customer_job'] ==  'finance executive'), 'customer_job']= 'finance'\n",
    "# df_test.loc[(df_test['customer_job'] == 'product marketing') | (df_test['customer_job'] == 'technical marketing'), 'customer_job']= 'marketing'\n",
    "# df_test.loc[(df_test['customer_job'] == 'event marketing') | (df_test['customer_job'] == 'field marketing') | (df_test['customer_job'] == 'advertising'), 'customer_job']= 'marketing'\n",
    "# df_test.loc[(df_test['customer_job'] == 'vendite') | (df_test['customer_job'] == 'értékesítés') | (df_test['customer_job'] == 'sales engineering') |(df_test['customer_job'] == 'vertrieb'), 'customer_job']= 'sales'\n",
    "# df_test.loc[(df_test['customer_job'] == 'projektmenedzsment\\tprogram and project management') | (df_test['customer_job'] == 'program-_és_projektmenedzsment') | (df_test['customer_job'] == 'programm-_und_projektmanagement') | (df_test['customer_job'] == 'project manager') | (df_test['customer_job'] == 'program_and_project_manager')| (df_test['customer_job'] == 'programm- und projektmanagement'), 'customer_job']= 'program and project management'\n",
    "# df_test.loc[(df_test['customer_job'] == 'designere / budget') | (df_test['customer_job'] == 'genel müdür')| (df_test['customer_job'] == 'program_and_project_management') | (df_test['customer_job'] == 'gestión_de_proyectos'), 'customer_job']= 'program and project management'\n",
    "# df_test.loc[(df_test['customer_job'] == 'public bidder') | (df_test['customer_job'] == 'pénzügy'), 'customer_job']= 'bidder'\n",
    "# df_test.loc[df_test['customer_job'] == 'ranger 2', 'customer_job'] ='ranger'\n",
    "# df_test.loc[(df_test['customer_job']== 'nan') & (df_test['customer_position']== 'none')& (df_test['customer_type']== 'Consultant'), 'customer_job'] = 'consulting'\n",
    "# df_test.loc[(df_test['customer_job'] == 'consultant') | (df_test['customer_job'] == 'consultent') | (df_test['customer_job'] == 'consultant / purchaser')| (df_test['customer_job'] == 'recommend (you recommend specific products or technologies for the solution)'), 'customer_job']= 'consulting'\n",
    "# df_test.loc[(df_test['customer_job']== 'nan') & (df_test['business_subarea']== 'Consulting') , 'customer_job'] = 'consulting'\n",
    "# df_test.loc[(df_test['customer_job']== 'nan') & (df_test['customer_type']== 'Specifier/ Influencer') , 'customer_job'] = 'influencer'\n",
    "# df_test.loc[(df_test['customer_job']== 'nan') & (df_test['customer_type']== 'End Customer')  & (df_test['customer_position']== 'none') , 'customer_job']='Empthy'\n",
    "# df_test.loc[(df_test['customer_job']== 'nan') & (df_test['customer_type']== 'Channel Partner')  , 'customer_job']= 'Channel Partner'\n",
    "\n",
    "# df_test.loc[(df_test['customer_job'] == 'művészet_és_design') | (df_test['customer_job'] == 'arte_e_design') | (df_test['customer_job'] == 'artist, lead on equipment selection') | (df_test['customer_job'] == 'design') | (df_test['customer_job'] == 'arts_and_design') | (df_test['customer_job'] == 'arte y diseño') | (df_test['customer_job'] == 'arts and design'), 'customer_job'] = 'art and design'\n",
    "# df_test.loc[(df_test['customer_job'] == 'graphic/color art') | (df_test['customer_job'] == 'designer') | (df_test['customer_job'] == 'colorist') | (df_test['customer_job'] == 'designer, producer') | (df_test['customer_job'] == 'lead designer') | (df_test['customer_job'] == 'designers'), 'customer_job'] = 'art and design'\n",
    "\n",
    "# df_test.loc[(df_test['customer_job'] == 'media_e_comunicazione') | (df_test['customer_job'] == 'média_és_kommunikáció') | (df_test['customer_job'] == 'medios_de_comunicación') | (df_test['customer_job'] == 'medien_und_kommunikation') | (df_test['customer_job'] == 'media_and_communication'), 'customer_job'] = 'media and communication'\n",
    "\n",
    "# df_test.loc[(df_test['customer_job'] == 'educator') | (df_test['customer_job'] == 'higher education (college & university)'), 'customer_job'] = 'education'\n",
    "\n",
    "# df_test.loc[(df_test['customer_job'] == 'adminisztráció') | (df_test['customer_job'] == 'amministrativo') | (df_test['customer_job'] == 'administration') | (df_test['customer_job'] == 'administración'), 'customer_job'] = 'administrative'\n",
    "\n",
    "# df_test.loc[(df_test['customer_job'] == 'systems designer') | (df_test['customer_job'] == 'information_technology') | (df_test['customer_job'] == 'computing & it') | (df_test['customer_job'] == 'it/software') | (df_test['customer_job'] == 'it') | (df_test['customer_job'] == 'information technology\\u200b') | (df_test['customer_job'] == 'graphic design') | (df_test['customer_job'] == 'it - information technology') | (df_test['customer_job'] == 'collaboration & web apps') | (df_test['customer_job'] == 'it integrator'), 'customer_job'] = 'information technology'\n",
    "# df_test.loc[(df_test['customer_job'] == 'application development') | (df_test['customer_job'] == 'si') | (df_test['customer_job'] == 'system engineer') | (df_test['customer_job'] == 'developer') | (df_test['customer_job'] == 'design engineer') | (df_test['customer_job'] == 'it dairector') | (df_test['customer_job'] == 'it department') | (df_test['customer_job'] == 'it hardware technician'), 'customer_job'] = 'information technology'\n",
    "# df_test.loc[(df_test['customer_job'] == 'director of it') | (df_test['customer_job'] == 'it director') | (df_test['customer_job'] == 'it manager') | (df_test['customer_job'] == 'it specialist') | (df_test['customer_job'] == 'systems design') | (df_test['customer_job'] == 'it tech.') | (df_test['customer_job'] == 'it admin') | (df_test['customer_job'] == 'engineering, design, and install') | (df_test['customer_job'] == 'system designer, integrator'), 'customer_job'] = 'information technology'\n",
    "\n",
    "# df_test.loc[(df_test['customer_job'] == 'account exec/manager') | (df_test['customer_job'] == 'account management') | (df_test['customer_job'] == 'accounts payable'), 'customer_job'] = 'accounting'\n",
    "\n",
    "# df_test.loc[(df_test['customer_job'] == 'medical imaging  specialist') | (df_test['customer_job'] == 'medical solution provider') | (df_test['customer_job'] == 'medical solution provider\\u200b') | (df_test['customer_job'] == 'healthcare professionals') | (df_test['customer_job'] == 'healthcare services') | (df_test['customer_job'] == 'spécialiste_en_imagerie_médicale') | (df_test['customer_job'] == 'healthcare_services'), 'customer_job'] = 'biomedical'\n",
    "# df_test.loc[(df_test['customer_job'] == 'profesional de cirugía') | (df_test['customer_job'] == 'surgery professional\\u200b') | (df_test['customer_job'] == 'radiology professional') | (df_test['customer_job'] == 'főorvos') | (df_test['customer_job'] == 'clinic') | (df_test['customer_job'] == 'radiology_professional') | (df_test['customer_job'] == 'profesional de radiología') | (df_test['customer_job'] == 'cirugano') | (df_test['customer_job'] == 'chirurgien') | (df_test['customer_job'] == 'surgery professional'), 'customer_job'] = 'medical'\n",
    "\n",
    "# # customer_job 전처리\n",
    "# df_test.loc[(df_test['customer_job'] == 'üzemeltetés') | (df_test['customer_job'] == 'operations executive') | (df_test['customer_job'] == 'regional director of operations') | (df_test['customer_job'] == 'operations manager') | (df_test['customer_job'] == 'director of operations') | (df_test['customer_job'] == 'strategy & operations specialist') | (df_test['customer_job'] == 'facilities and operations') | (df_test['customer_job'] == 'operaciones'), 'customer_job'] = 'operations'\n",
    "\n",
    "# df_test.loc[(df_test['customer_job'] == 'real estate') | (df_test['customer_job'] == 'proprietário(a)'), 'customer_job'] = 'property'\n"
   ]
  },
  {
   "cell_type": "markdown",
   "id": "ae77faaf",
   "metadata": {},
   "source": [
    "#### historical_existing_cnt"
   ]
  },
  {
   "cell_type": "code",
   "execution_count": 14,
   "id": "a628f678",
   "metadata": {},
   "outputs": [],
   "source": [
    "df_train['historical_existing_cnt'] = df_train['historical_existing_cnt'].fillna(0)\n",
    "# df_train = df_train[df_train['historical_existing_cnt']<1000]"
   ]
  },
  {
   "cell_type": "markdown",
   "id": "8bca885f",
   "metadata": {},
   "source": [
    "####  inquiry_type"
   ]
  },
  {
   "cell_type": "markdown",
   "id": "a8f96b77",
   "metadata": {},
   "source": [
    "- train set"
   ]
  },
  {
   "cell_type": "code",
   "execution_count": 15,
   "id": "9e3bdfe6",
   "metadata": {},
   "outputs": [],
   "source": [
    "def preprocess_inquiry_type_1(df):\n",
    "    # inquiry_type 열을 소문자로 변환\n",
    "    df['inquiry_type'] = df['inquiry_type'].str.lower()\n",
    "    \n",
    "    # 대체할 문자열과 대상 문자열 정의\n",
    "    replacement_mapping = {\n",
    "        '(select id_needs)':'etc',\n",
    "        'customer suggestions':'customer suggestions',\n",
    "        'digital platform':'product information',\n",
    "        'display product':'product information',\n",
    "        'display textbook and photos':'product information',\n",
    "        'educational equipments':'product information',\n",
    "        'estoy buscando para ecuador este producto lg magnit micro led, para un cliente de 138 pulgadas, con envió marítimo.':'product purchase inquiry',\n",
    "        'etc.':'etc',\n",
    "        'event inquiry':'etc',\n",
    "        'evento_sdelestero':'etc',\n",
    "        'first info and pricing':'pricing and demo request',\n",
    "        'for school':'product information',\n",
    "        'high inch 86 / 98 or 110':'product information',\n",
    "        'hola me pueden cotizar 19 pantallas interactivas de 100 pulgadas entregadas en guayaquil -ecuador.':'quotation and purchase Inquiry',\n",
    "        'hospital tv':'product information',\n",
    "        'hotel tv products':'product information',\n",
    "        'i want to know the details about it':'product information',\n",
    "        'idb':'product and technical support/consultation',\n",
    "        'intégrateur historique du george v':'intégrateur historique du george v',\n",
    "        'led signage':'product information',\n",
    "        'media inquiry':'customer suggestions',\n",
    "        'needs':'etc',\n",
    "        'not specified':'other',\n",
    "        'oem/odm request':'product and technical support/consultation',\n",
    "        'one quick:flex':'product information',\n",
    "        'other_':'other',\n",
    "        'others':'other',\n",
    "        'pantallas interactivas para clinicas':'product information',\n",
    "        'preciso de um monitor médico para radiografia convencional e tomogrtafia.':'product information',\n",
    "        'probeam precio':'pricing and demo request',\n",
    "        'purchase or quotation':'purchase',\n",
    "        'quotation or purchase consultation':'purchase',\n",
    "        'quotation_':'purchase',\n",
    "        'quotation_or_purchase_consultation':'purchase',\n",
    "        'request a demo':'pricing and demo request',\n",
    "        'request for distributorship':'partnership/distributorship request',\n",
    "        'request for partnership':'partnership/distributorship request',\n",
    "        'request for quotation or purchase':'quotation and purchase Inquiry',\n",
    "        'request for technical consulting':'product and technical support/consultation',\n",
    "        'sales inquiry':'sales',\n",
    "        'services':'product and technical support/consultation',\n",
    "        'solicito apoyo para realizar cotizacion de los dispositivos que ofrecen en la solución one quick: ':'quotation and purchase Inquiry',\n",
    "        'standalone':'product information',\n",
    "        'teach':'trainings',\n",
    "        'technical consultation':'technical',\n",
    "        'technical support':'technical',\n",
    "        'technical_consultation':'technical',\n",
    "        'toi muon tim hieu thong tin ky thuat, gia ca cua sp de su dung':'quotation and purchase Inquiry',\n",
    "        'tv interactive':'product information',\n",
    "        'tôi cần tham khảo giá và giải pháp từ lg':'quotation and purchase Inquiry',\n",
    "        'usage or technical consultation':'product and technical support/consultation',\n",
    "        'usage_or_technical_consultation':'product and technical support/consultation',\n",
    "        'video wall':'product and technical support/consultation',\n",
    "        'vrf':'product information',\n",
    "        'vui lòng báo giá giúp mình sản phẩm đo thân nhiệt xin cảm ơn':'product information',\n",
    "        'window facing product':'product information',\n",
    "        'aio':'product information',\n",
    "        'product purchase inquiry':'purchase',\n",
    "        'purchaseor_purchase_consultation':'purchase',\n",
    "        'quotation and purchase inquiry':'purchase',\n",
    "        'solicito apoyo para realizar cotizacion de los dispositivos que ofrecen en la solución one quick: ':'purchase',\n",
    "        'usage or technical':'technical',\n",
    "        'usage_or_technical':'technical',\n",
    "        'customer suggestions': 'etc',\n",
    "        'intégrateur historique du george v': 'etc',\n",
    "        'solicito apoyo para realizar cotizacion de los dispositivos que ofrecen en la solución\\xa0one quick:\\xa0': 'purchase',\n",
    "        'product and technical support/consultation':'product and technical consultation',\n",
    "        'product and technical/consultation':'product and technical consultation',\n",
    "        'product and technical consultation':'technical',\n",
    "        'technical':'product and technical consultation',\n",
    "        'quotation and purchase inquiry':'purchase',\n",
    "        'purchase':'quotation and purchase inquiry',\n",
    "        'product and product and product and product and product and product and technical consultation':'product and technical consultation',\n",
    "        'quotation and quotation and purchase inquiry inquiry':'quotation and purchase inquiry',\n",
    "        'quotation and quotation and purchase inquiry inquiry':'quotation and purchase inquiry',\n",
    "        'product and product and product and product and product and technical consultation':'product and technical consultation',\n",
    "        'product and product and product and product and technical consultation':'product and technical consultation',\n",
    "        'quotation and purchase inquiryor_quotation and purchase inquiry_consultation':'quotation and purchase inquiry',\n",
    "        'quotation or quotation and purchase inquiry consultation':'quotation and purchase inquiry',\n",
    "        'request for product and product and product and product and product and technical consultation consulting':'product and technical consultation',\n",
    "        'request for quotation or quotation and purchase inquiry':'quotation and purchase inquiry',\n",
    "        'usage or product and product and product and product and product and technical consultation':'product and technical consultation',\n",
    "        'quotation and quotation and purchase inquiry inquiry':'quotation and purchase inquiry',\n",
    "        'product and product and product and technical consultation':'product and technical consultation',\n",
    "        'customer suggestions':'etc',\n",
    "        'quotation and quotation and purchase inquiry inquiry':'product and technical consultation',\n",
    "    }\n",
    "\n",
    "    # 대상 문자열에 대해 대체 수행\n",
    "    for old_str, new_str in replacement_mapping.items():\n",
    "        # 괄호가 있는 경우\n",
    "        if '(' in old_str:\n",
    "            df['inquiry_type'] = df['inquiry_type'].replace(r'\\('+old_str.strip('()')+r'\\)', new_str, regex=True)\n",
    "        # 괄호가 없는 경우\n",
    "        else:\n",
    "            df['inquiry_type'] = df['inquiry_type'].replace(old_str, new_str, regex=True)\n",
    "\n",
    "    # inquiry_type 열의 값을 소문자로 변환하여 Counter에 전달\n",
    "    inquiry_type_counts = Counter(str(value).lower() for value in df['inquiry_type'] if not isinstance(value, float))\n",
    "\n",
    "    # 총 고유값 개수 확인\n",
    "    total_unique_values = len(inquiry_type_counts)\n",
    "    print(\"총 고유값 개수:\", total_unique_values)\n",
    "\n",
    "    # 각 고유값과 빈도수 출력\n",
    "    print(\"고유값 및 빈도수:\")\n",
    "    for value, count in sorted(inquiry_type_counts.items()):\n",
    "        print(f\"'{value}':'{count}'\")\n",
    "\n",
    "\n",
    "    # 최빈값 계산\n",
    "    mode_value = df['inquiry_type'].mode()[0]\n",
    "\n",
    "    # 결측치를 최빈값으로 대체\n",
    "    df['inquiry_type'].fillna(mode_value, inplace=True)\n",
    "    print('---------------------')\n",
    "    return df"
   ]
  },
  {
   "cell_type": "code",
   "execution_count": 16,
   "id": "d717535d",
   "metadata": {},
   "outputs": [],
   "source": [
    "def preprocess_inquiry_type_2(df):\n",
    "    # inquiry_type 열을 소문자로 변환\n",
    "    df['inquiry_type'] = df['inquiry_type'].str.lower()\n",
    "    \n",
    "    # 대체할 문자열과 대상 문자열 정의\n",
    "    replacement_mapping = {\n",
    "        'customer suggestions':'etc',\n",
    "        'quotation and quotation and purchase inquiry inquiry':'quotation and purchase inquiry',\n",
    "    }\n",
    "\n",
    "    # 대상 문자열에 대해 대체 수행\n",
    "    for old_str, new_str in replacement_mapping.items():\n",
    "        # 괄호가 있는 경우\n",
    "        if '(' in old_str:\n",
    "            df['inquiry_type'] = df['inquiry_type'].replace(r'\\('+old_str.strip('()')+r'\\)', new_str, regex=True)\n",
    "        # 괄호가 없는 경우\n",
    "        else:\n",
    "            df['inquiry_type'] = df['inquiry_type'].replace(old_str, new_str, regex=True)\n",
    "\n",
    "    # inquiry_type 열의 값을 소문자로 변환하여 Counter에 전달\n",
    "    inquiry_type_counts = Counter(str(value).lower() for value in df['inquiry_type'] if not isinstance(value, float))\n",
    "\n",
    "    # 총 고유값 개수 확인\n",
    "    total_unique_values = len(inquiry_type_counts)\n",
    "    print(\"총 고유값 개수:\", total_unique_values)\n",
    "    \n",
    "\n",
    "    # 각 고유값과 빈도수 출력\n",
    "    print(\"고유값 및 빈도수:\")\n",
    "    for value, count in sorted(inquiry_type_counts.items()):\n",
    "        print(f\"'{value}':'{count}'\")\n",
    "\n",
    "    # 최빈값 계산\n",
    "    mode_value = df['inquiry_type'].mode()[0]\n",
    "\n",
    "    # 결측치를 최빈값으로 대체\n",
    "    df['inquiry_type'].fillna(mode_value, inplace=True)\n",
    "    print('---------------------')\n",
    "    return df\n"
   ]
  },
  {
   "cell_type": "code",
   "execution_count": 17,
   "id": "2a4b52f1",
   "metadata": {},
   "outputs": [
    {
     "name": "stdout",
     "output_type": "stream",
     "text": [
      "총 고유값 개수: 11\n",
      "고유값 및 빈도수:\n",
      "'customer suggestions':'2'\n",
      "'etc':'242'\n",
      "'other':'1181'\n",
      "'partnership/distributorship request':'372'\n",
      "'pricing and demo request':'187'\n",
      "'product and technical consultation':'2210'\n",
      "'product information':'1257'\n",
      "'quotation and purchase inquiry':'42156'\n",
      "'quotation and quotation and purchase inquiry inquiry':'235'\n",
      "'sales':'10081'\n",
      "'trainings':'435'\n",
      "---------------------\n",
      "총 고유값 개수: 9\n",
      "고유값 및 빈도수:\n",
      "'etc':'244'\n",
      "'other':'1181'\n",
      "'partnership/distributorship request':'372'\n",
      "'pricing and demo request':'187'\n",
      "'product and technical consultation':'2210'\n",
      "'product information':'1257'\n",
      "'quotation and purchase inquiry':'43332'\n",
      "'sales':'10081'\n",
      "'trainings':'435'\n",
      "---------------------\n",
      "총 고유값 개수: 9\n",
      "고유값 및 빈도수:\n",
      "'customer suggestions':'2'\n",
      "'etc':'4'\n",
      "'other':'122'\n",
      "'partnership/distributorship request':'64'\n",
      "'pricing and demo request':'9'\n",
      "'product and technical consultation':'224'\n",
      "'product information':'68'\n",
      "'quotation and purchase inquiry':'3465'\n",
      "'trainings':'21'\n",
      "---------------------\n",
      "총 고유값 개수: 8\n",
      "고유값 및 빈도수:\n",
      "'etc':'6'\n",
      "'other':'122'\n",
      "'partnership/distributorship request':'64'\n",
      "'pricing and demo request':'9'\n",
      "'product and technical consultation':'224'\n",
      "'product information':'68'\n",
      "'quotation and purchase inquiry':'4757'\n",
      "'trainings':'21'\n",
      "---------------------\n"
     ]
    }
   ],
   "source": [
    "df_train = preprocess_inquiry_type_1(df_train)\n",
    "df_train = preprocess_inquiry_type_2(df_train)\n",
    "\n",
    "df_test = preprocess_inquiry_type_1(df_test)\n",
    "df_test = preprocess_inquiry_type_2(df_test)"
   ]
  },
  {
   "cell_type": "markdown",
   "id": "b7d96966",
   "metadata": {},
   "source": [
    "#### product_category"
   ]
  },
  {
   "cell_type": "code",
   "execution_count": 18,
   "id": "fc582cd8",
   "metadata": {},
   "outputs": [],
   "source": [
    "def pp_pc(row):\n",
    "#     categories = ['display', 'tv', 'temperature', 'air', 'beam', 'beauty', 'board', 'cloud', 'pc', 'software', 'refrigerator', 'robot', 'energy', 'other']\n",
    "    category_dict = {\n",
    "        'display': ['Display','video', 'signage', 'Signage', '43uh5f', '49uh', '49vl', '49vl', '55vm', '86uh', '98uh', 'display', 'uh5f', 'fhd', 'gsca',\n",
    "                    'gscd', 'brightness', 'laec', 'leadallin', 'bloc', 'one:quick', 'lsca', 'screen', '顯示屏',\n",
    "                    'one quick', 'onequick', 'led', 'lcd', 'oled', 'ultra stretch series', 'ur640', 'videowall', 'videwall', 'Monitors',\n",
    "                    'virtual production', 'window facing', 'pol', '28mq780', 'monitor', 'UM3DG', 'UN880', 'MQ780', 'QP88D', 'ERGO', 'UH', '65EP5G',\n",
    "                    'UL3J', 'WN780', 'svh7f', 'uh', '32SM5J', 'inch', 'essential series'],\n",
    "        'tv': ['43uq751c0sb', 'lq621cbsb', '43us660h', '50uq801', '50us660', 'tv', 'TV', 'us670', 'pro centric', 'procentric', 'smart tv', '電視', 'CT5WJ', 'HT3WJ', 'uq801c0sb', 'uq751c0sf',\n",
    "               'us660h0sd'],\n",
    "        'temperature': ['definir', 'thermodynamic water heater', 'ac rumah', 'acondicionado', 'condicionado' 'vrf', 'aquecimento',\n",
    "                        'calefacción', 'chiller', 'climatiseur', 'heating', 'isıtma', 'split', 'magnit', 'inverter', 'multi', 'aio',\n",
    "                        'ogrzewanie', 'pendingin', 'rac', 'cac', 'conditioner', 'sac', 'scroll compressor', 'soğutucu',\n",
    "                        'system ac', 'réfrigérant', 'cassete inverter', 'điều hòa', 'אחר', 'חימום', 'מזגנים ', 'מרובה ', 'تكييف وتبريد', 'تكييفات',\n",
    "                        'เครื่องปรับอากาศเผื่อที่อยู่อาศัย', 'مبرد', 'reversible ac', 'single package', 'حلول التدفئة', 'פיצול מרובה', 'unitario'],\n",
    "        'air': ['ahu', 'cac', 'air solution', 'air solution', 'ventilation', 'aircare', 'vrf'],\n",
    "        'beam': ['bu50nst', 'projector', 'Beam', 'Projector'],\n",
    "        'beauty' : ['beauty'],\n",
    "        'board': ['createboard', 'idb', 'borad', 'tr3', '55tc3d'],\n",
    "        'cloud': ['cloud', 'Cloud', 'id', 'cloud device', 'Thin Clients', 'Zero Clients'],\n",
    "        'pc': ['laptop', 'pc', 'Laptops'],\n",
    "        'software': ['pro centric', 'procentric', 'software', 'software solution', 'webos', '軟體', 'pro:centric', 'SuperSign'],\n",
    "        'refrigerator': ['refrigerator'],\n",
    "        'robot': ['robot'],\n",
    "        'energy': ['solar', 'energy', 'energy storage system'],\n",
    "        'other': ['autre', 'inne', 'khác', 'etc.', 'lainnya', 'not specified', 'other', 'Other', 'otros', 'outros', 'ฯลฯ', '其他'],\n",
    "        'parts_and_accessories' : ['parts', 'accessories', 'Accessories', 'Antennas'],\n",
    "        'plug' : ['SC-00DA'],\n",
    "        'appliances' : ['washing machine', 'dryer', 'vb.', 'vacuum'],\n",
    "        'hospital' : ['Medical', 'medical', 'hospital', 'X-ray', 'HN713D', 'HQ513D', 'surgical', 'จอภาพเพื่อการวินิจฉัย', 'จอภาพสำหรับการตรวจสอบทางคลินิก'],\n",
    "        'services' : ['support', 'care program', 'Enqiry', 'inquiry', 'service', 'error']\n",
    "    }\n",
    "    \n",
    "    for category, keywords in category_dict.items():\n",
    "        for keyword in keywords:\n",
    "            if keyword in row['product_category']:\n",
    "                row[category] = 1\n",
    "                break\n",
    "                \n",
    "#           \n",
    "#     for category in categories:\n",
    "#         for keyword in keywords[category]:\n",
    "#             if keyword in row['product_category']:\n",
    "#                 row[category] = 1\n",
    "#                 break\n",
    "\n",
    "    return row\n"
   ]
  },
  {
   "cell_type": "code",
   "execution_count": 19,
   "id": "66cd5eb3",
   "metadata": {},
   "outputs": [],
   "source": [
    "product_train = df_train[['product_category', 'product_subcategory', 'product_modelname']]\n",
    "product_train = product_train.assign(com=product_train.apply(lambda row: ''.join(str(cell).replace('nan', '') for cell in row), axis=1))\n",
    "\n",
    "category_table_train = pd.DataFrame(product_train['com'])\n",
    "category_table_train.rename(columns={'com': 'product_category'}, inplace=True)\n",
    "category_table_train[['display', 'tv', 'temperature', 'air', 'beam', 'beauty', 'board', 'cloud', 'pc', 'software', 'refrigerator', 'robot', 'energy', 'other', 'parts_and_accessories', 'plug', 'appliances', 'hospital', 'services']] = 0\n",
    "category_table_train = category_table_train.fillna('None')\n",
    "category_table_train = category_table_train.apply(pp_pc, axis=1)\n",
    "\n",
    "\n",
    "product_test = df_test[['product_category', 'product_subcategory', 'product_modelname']]\n",
    "product_test = product_test.assign(com=product_test.apply(lambda row: ''.join(str(cell).replace('nan', '') for cell in row), axis=1))\n",
    "\n",
    "category_table_test = pd.DataFrame(product_test['com'])\n",
    "category_table_test.rename(columns={'com': 'product_category'}, inplace=True)\n",
    "category_table_test[['display', 'tv', 'temperature', 'air', 'beam', 'beauty', 'board', 'cloud', 'pc', 'software', 'refrigerator', 'robot', 'energy', 'other', 'parts_and_accessories', 'plug', 'appliances', 'hospital', 'services']] = 0\n",
    "category_table_test = category_table_test.fillna('None')\n",
    "category_table_test = category_table_test.apply(pp_pc, axis=1)"
   ]
  },
  {
   "cell_type": "code",
   "execution_count": 20,
   "id": "03754d98",
   "metadata": {
    "scrolled": true
   },
   "outputs": [
    {
     "data": {
      "text/plain": [
       "product_category\n",
       "                                              17489\n",
       "control                                         263\n",
       "standalone                                       10\n",
       "allinone_rmk                                      7\n",
       "Category                                          1\n",
       "standard                                          1\n",
       "retaildigital                                     1\n",
       "Channel Partner done FTS Details in System        1\n",
       "آخر                                               1\n",
       "Name: count, dtype: int64"
      ]
     },
     "execution_count": 20,
     "metadata": {},
     "output_type": "execute_result"
    }
   ],
   "source": [
    "# pd.set_option('display.max_rows', 10)\n",
    "category_table_train[category_table_train.iloc[:,1:].sum(axis=1)==0]['product_category'].value_counts()"
   ]
  },
  {
   "cell_type": "code",
   "execution_count": 21,
   "id": "8e9a17f4",
   "metadata": {},
   "outputs": [],
   "source": [
    "df_train = pd.concat([df_train, category_table_train.iloc[:,1:]], axis=1)\n",
    "df_test = pd.concat([df_test, category_table_test.iloc[:,1:]], axis=1)"
   ]
  },
  {
   "cell_type": "markdown",
   "id": "8d5caf7c",
   "metadata": {},
   "source": [
    "####  customer_position"
   ]
  },
  {
   "cell_type": "code",
   "execution_count": 22,
   "id": "c6e44ccf",
   "metadata": {},
   "outputs": [],
   "source": [
    "# 17) customer_position\n",
    "\n",
    "def pp_cp(text):\n",
    "    text = text.replace('/', ' ').lower()\n",
    "\n",
    "    position_map = {\n",
    "        'executive': ['ceo', 'executive', 'president', 'entrepre', 'found', 'gerente', 'proprie', 'genel', 'chairman', 'boss', 'vp'],\n",
    "        'trainee': ['intern', 'unpaid'],\n",
    "        'vice president': ['vicepresident'],\n",
    "        'engineering': ['installer', 'técnico', 'tech', 'desarrollo'],\n",
    "        'lecturer': ['profess', 'lecture', 'educa', 'teacher', 'principal', 'academic', 'prof', 'faculty', 'hon dean', 'exam', 'pgt'],\n",
    "        'none': ['bulgaria', 'not applicable'],\n",
    "        'manufacturer': ['manufacturer'],\n",
    "        'customer': ['user'],\n",
    "        'entry level': ['entry'],\n",
    "        'consultant': ['consult', 'career coach'],\n",
    "        'decision maker': ['decision'],\n",
    "        'director': ['director'],\n",
    "        'hospital': ['főorvos', 'tierarzt', 'medical'],\n",
    "        'exhibition': ['exhibition'],\n",
    "        'employee': ['this is', 'mindenes', 'no influence'],\n",
    "        'sales': ['sales'],\n",
    "        'research': ['research', 'pathologist'],\n",
    "        'others': ['other'],\n",
    "        'partner': ['distributor', 'partner'],\n",
    "        'management': ['manage']\n",
    "    }\n",
    "\n",
    "    for position, keywords in position_map.items():\n",
    "        for keyword in keywords:\n",
    "            if keyword in text:\n",
    "                return position\n",
    "\n",
    "    return text\n",
    "\n",
    "df_train['customer_position'] = df_train['customer_position'].apply(pp_cp)\n",
    "df_test['customer_position'] = df_test['customer_position'].apply(pp_cp)"
   ]
  },
  {
   "cell_type": "markdown",
   "id": "0251a2d4",
   "metadata": {},
   "source": [
    "#### expected_timeline"
   ]
  },
  {
   "cell_type": "code",
   "execution_count": 23,
   "id": "db3b4e9e",
   "metadata": {},
   "outputs": [],
   "source": [
    "# expected_timeline\n",
    "\n",
    "def pp_et(text):\n",
    "    text = str(text).replace('_', ' ').replace('.','').replace(' - ', ' ~ ')\n",
    "    if text not in ['nan', 'less than 3 months', '3 months ~ 6 months', 'more than a year','9 months ~ 1 year', '6 months ~ 9 months', 'less than 6 months', 'etc','being followed up']:\n",
    "        return 'memo'\n",
    "    return text\n",
    "\n",
    "df_train['expected_timeline'] = pd.DataFrame(df_train['expected_timeline'].apply(pp_et))\n",
    "df_test['expected_timeline'] = pd.DataFrame(df_test['expected_timeline'].apply(pp_et))"
   ]
  },
  {
   "cell_type": "markdown",
   "id": "af526c13",
   "metadata": {},
   "source": [
    "## 3. 데이터 전처리"
   ]
  },
  {
   "cell_type": "markdown",
   "id": "4bd47e00",
   "metadata": {},
   "source": [
    "### 1) 레이블 인코딩"
   ]
  },
  {
   "cell_type": "code",
   "execution_count": 24,
   "id": "0b42b1a1",
   "metadata": {},
   "outputs": [],
   "source": [
    "def label_encoding(series: pd.Series) -> pd.Series:\n",
    "    \"\"\"범주형 데이터를 시리즈 형태로 받아 숫자형 데이터로 변환합니다.\"\"\"\n",
    "\n",
    "    my_dict = {}\n",
    "\n",
    "    # 모든 요소를 문자열로 변환\n",
    "    series = series.astype(str)\n",
    "\n",
    "    for idx, value in enumerate(sorted(series.unique())):\n",
    "        my_dict[value] = idx\n",
    "    series = series.map(my_dict)\n",
    "\n",
    "    return series"
   ]
  },
  {
   "cell_type": "code",
   "execution_count": 25,
   "id": "881a4612",
   "metadata": {},
   "outputs": [],
   "source": [
    "# 레이블 인코딩할 칼럼들\n",
    "label_columns = [\n",
    "    \"bant_submit\",\n",
    "    \"customer_country\",\n",
    "    \"business_subarea\",\n",
    "    \"business_area\",\n",
    "    \"business_unit\",\n",
    "    \"customer_type\",\n",
    "    \"enterprise\",\n",
    "    \"customer_job\",\n",
    "    \"inquiry_type\",\n",
    "    \"product_category\",\n",
    "    \"product_subcategory\",\n",
    "    \"product_modelname\",\n",
    "    \"customer_country.1\",\n",
    "    \"customer_position\",\n",
    "    \"response_corporate\",\n",
    "    \"expected_timeline\",\n",
    "]\n",
    "\n",
    "df_all = pd.concat([df_train[label_columns], df_test[label_columns]])\n",
    "\n",
    "for col in label_columns:\n",
    "    df_all[col] = label_encoding(df_all[col])\n",
    "    \n"
   ]
  },
  {
   "cell_type": "markdown",
   "id": "3a477f93",
   "metadata": {},
   "source": [
    "다시 학습 데이터와 제출 데이터를 분리합니다."
   ]
  },
  {
   "cell_type": "code",
   "execution_count": 26,
   "id": "ff10c5fb",
   "metadata": {},
   "outputs": [],
   "source": [
    "for col in label_columns:  \n",
    "    df_train[col] = df_all.iloc[: len(df_train)][col]\n",
    "    df_test[col] = df_all.iloc[len(df_train) :][col]"
   ]
  },
  {
   "cell_type": "code",
   "execution_count": 27,
   "id": "9dad63c1",
   "metadata": {},
   "outputs": [],
   "source": [
    "df_train = df_train.drop(['customer_country.1'], axis = 1)\n",
    "df_test = df_test.drop(['customer_country.1'], axis = 1)"
   ]
  },
  {
   "cell_type": "code",
   "execution_count": 28,
   "id": "aae19b29",
   "metadata": {},
   "outputs": [],
   "source": [
    "df_train = df_train.drop(['product_category', 'product_subcategory', 'product_modelname'], axis = 1)\n",
    "df_test = df_test.drop(['product_category', 'product_subcategory', 'product_modelname'], axis = 1)"
   ]
  },
  {
   "cell_type": "code",
   "execution_count": 29,
   "id": "28795490",
   "metadata": {},
   "outputs": [
    {
     "data": {
      "text/plain": [
       "Index(['bant_submit', 'customer_country', 'business_unit',\n",
       "       'com_reg_ver_win_rate', 'customer_idx', 'customer_type', 'enterprise',\n",
       "       'historical_existing_cnt', 'id_strategic_ver', 'it_strategic_ver',\n",
       "       'idit_strategic_ver', 'customer_job', 'lead_desc_length',\n",
       "       'inquiry_type', 'customer_position', 'response_corporate',\n",
       "       'expected_timeline', 'ver_cus', 'ver_pro', 'ver_win_rate_x',\n",
       "       'ver_win_ratio_per_bu', 'business_area', 'business_subarea',\n",
       "       'lead_owner', 'is_converted', 'display', 'tv', 'temperature', 'air',\n",
       "       'beam', 'beauty', 'board', 'cloud', 'pc', 'software', 'refrigerator',\n",
       "       'robot', 'energy', 'other', 'parts_and_accessories', 'plug',\n",
       "       'appliances', 'hospital', 'services'],\n",
       "      dtype='object')"
      ]
     },
     "execution_count": 29,
     "metadata": {},
     "output_type": "execute_result"
    }
   ],
   "source": [
    "df_train.columns"
   ]
  },
  {
   "cell_type": "markdown",
   "id": "d332358a",
   "metadata": {},
   "source": [
    "### 2) 학습, 검증 데이터 분리"
   ]
  },
  {
   "cell_type": "code",
   "execution_count": 31,
   "id": "27c9e205",
   "metadata": {},
   "outputs": [],
   "source": [
    "x_train, x_val, y_train, y_val = train_test_split(\n",
    "    df_train.drop(\"is_converted\", axis=1),\n",
    "    df_train[\"is_converted\"],\n",
    "    test_size=0.2,\n",
    "    shuffle=True,\n",
    "    random_state=400,\n",
    ")"
   ]
  },
  {
   "cell_type": "markdown",
   "id": "79ecfa9b",
   "metadata": {},
   "source": [
    "## 4. 모델링"
   ]
  },
  {
   "cell_type": "markdown",
   "id": "3caf257b",
   "metadata": {},
   "source": [
    "### 1) 모델 정의 "
   ]
  },
  {
   "cell_type": "code",
   "execution_count": 35,
   "id": "be818038",
   "metadata": {},
   "outputs": [],
   "source": [
    "import pandas as pd\n",
    "from sklearn.model_selection import train_test_split\n",
    "from sklearn.compose import ColumnTransformer\n",
    "from sklearn.pipeline import Pipeline\n",
    "from sklearn.impute import SimpleImputer\n",
    "from catboost import CatBoostClassifier\n",
    "from sklearn.preprocessing import StandardScaler, OneHotEncoder\n",
    "from sklearn.metrics import (\n",
    "    accuracy_score,\n",
    "    confusion_matrix,\n",
    "    f1_score,\n",
    "    precision_score,\n",
    "    recall_score,\n",
    "    classification_report\n",
    ")\n",
    "     "
   ]
  },
  {
   "cell_type": "code",
   "execution_count": 33,
   "id": "1288213c",
   "metadata": {},
   "outputs": [],
   "source": [
    "numeric_features = ['com_reg_ver_win_rate', 'historical_existing_cnt', 'lead_desc_length', 'ver_win_rate_x', 'ver_win_ratio_per_bu']\n",
    "categorical_features = ['bant_submit', 'customer_country', 'business_unit', 'customer_idx', 'customer_type', 'enterprise', 'id_strategic_ver', 'it_strategic_ver', 'idit_strategic_ver', 'customer_job',\n",
    "                        'inquiry_type', 'customer_position', 'response_corporate', 'expected_timeline', 'ver_cus',\n",
    "                        'ver_pro', 'business_area', 'business_subarea', 'lead_owner', 'display', 'tv', 'temperature', 'air', 'beam', 'beauty',\n",
    "                        'board', 'cloud', 'pc', 'software', 'refrigerator', 'robot', 'energy',\n",
    "                        'other', 'parts_and_accessories', 'plug', 'appliances', 'hospital', 'services']\n",
    "\n",
    "numeric_transformer = Pipeline(steps=[\n",
    "    ('imputer', SimpleImputer(strategy='mean')),\n",
    "    ('scaler', StandardScaler())\n",
    "])\n",
    "\n",
    "categorical_transformer = Pipeline(steps=[\n",
    "    ('imputer', SimpleImputer(strategy='most_frequent')),\n",
    "    ('onehot', OneHotEncoder(handle_unknown='ignore'))\n",
    "])\n",
    "\n",
    "preprocessor = ColumnTransformer(\n",
    "    transformers=[\n",
    "        ('num', numeric_transformer, numeric_features),\n",
    "        ('cat', categorical_transformer, categorical_features)\n",
    "    ])\n"
   ]
  },
  {
   "cell_type": "code",
   "execution_count": 36,
   "id": "aec6c750",
   "metadata": {},
   "outputs": [],
   "source": [
    "model = CatBoostClassifier(random_state=400, verbose=0)\n",
    "\n",
    "pipeline = Pipeline(steps=[('preprocessor', preprocessor),\n",
    "                           ('classifier', model)])"
   ]
  },
  {
   "cell_type": "code",
   "execution_count": 37,
   "id": "92bbdf00",
   "metadata": {},
   "outputs": [
    {
     "data": {
      "text/html": [
       "<style>#sk-container-id-1 {color: black;background-color: white;}#sk-container-id-1 pre{padding: 0;}#sk-container-id-1 div.sk-toggleable {background-color: white;}#sk-container-id-1 label.sk-toggleable__label {cursor: pointer;display: block;width: 100%;margin-bottom: 0;padding: 0.3em;box-sizing: border-box;text-align: center;}#sk-container-id-1 label.sk-toggleable__label-arrow:before {content: \"▸\";float: left;margin-right: 0.25em;color: #696969;}#sk-container-id-1 label.sk-toggleable__label-arrow:hover:before {color: black;}#sk-container-id-1 div.sk-estimator:hover label.sk-toggleable__label-arrow:before {color: black;}#sk-container-id-1 div.sk-toggleable__content {max-height: 0;max-width: 0;overflow: hidden;text-align: left;background-color: #f0f8ff;}#sk-container-id-1 div.sk-toggleable__content pre {margin: 0.2em;color: black;border-radius: 0.25em;background-color: #f0f8ff;}#sk-container-id-1 input.sk-toggleable__control:checked~div.sk-toggleable__content {max-height: 200px;max-width: 100%;overflow: auto;}#sk-container-id-1 input.sk-toggleable__control:checked~label.sk-toggleable__label-arrow:before {content: \"▾\";}#sk-container-id-1 div.sk-estimator input.sk-toggleable__control:checked~label.sk-toggleable__label {background-color: #d4ebff;}#sk-container-id-1 div.sk-label input.sk-toggleable__control:checked~label.sk-toggleable__label {background-color: #d4ebff;}#sk-container-id-1 input.sk-hidden--visually {border: 0;clip: rect(1px 1px 1px 1px);clip: rect(1px, 1px, 1px, 1px);height: 1px;margin: -1px;overflow: hidden;padding: 0;position: absolute;width: 1px;}#sk-container-id-1 div.sk-estimator {font-family: monospace;background-color: #f0f8ff;border: 1px dotted black;border-radius: 0.25em;box-sizing: border-box;margin-bottom: 0.5em;}#sk-container-id-1 div.sk-estimator:hover {background-color: #d4ebff;}#sk-container-id-1 div.sk-parallel-item::after {content: \"\";width: 100%;border-bottom: 1px solid gray;flex-grow: 1;}#sk-container-id-1 div.sk-label:hover label.sk-toggleable__label {background-color: #d4ebff;}#sk-container-id-1 div.sk-serial::before {content: \"\";position: absolute;border-left: 1px solid gray;box-sizing: border-box;top: 0;bottom: 0;left: 50%;z-index: 0;}#sk-container-id-1 div.sk-serial {display: flex;flex-direction: column;align-items: center;background-color: white;padding-right: 0.2em;padding-left: 0.2em;position: relative;}#sk-container-id-1 div.sk-item {position: relative;z-index: 1;}#sk-container-id-1 div.sk-parallel {display: flex;align-items: stretch;justify-content: center;background-color: white;position: relative;}#sk-container-id-1 div.sk-item::before, #sk-container-id-1 div.sk-parallel-item::before {content: \"\";position: absolute;border-left: 1px solid gray;box-sizing: border-box;top: 0;bottom: 0;left: 50%;z-index: -1;}#sk-container-id-1 div.sk-parallel-item {display: flex;flex-direction: column;z-index: 1;position: relative;background-color: white;}#sk-container-id-1 div.sk-parallel-item:first-child::after {align-self: flex-end;width: 50%;}#sk-container-id-1 div.sk-parallel-item:last-child::after {align-self: flex-start;width: 50%;}#sk-container-id-1 div.sk-parallel-item:only-child::after {width: 0;}#sk-container-id-1 div.sk-dashed-wrapped {border: 1px dashed gray;margin: 0 0.4em 0.5em 0.4em;box-sizing: border-box;padding-bottom: 0.4em;background-color: white;}#sk-container-id-1 div.sk-label label {font-family: monospace;font-weight: bold;display: inline-block;line-height: 1.2em;}#sk-container-id-1 div.sk-label-container {text-align: center;}#sk-container-id-1 div.sk-container {/* jupyter's `normalize.less` sets `[hidden] { display: none; }` but bootstrap.min.css set `[hidden] { display: none !important; }` so we also need the `!important` here to be able to override the default hidden behavior on the sphinx rendered scikit-learn.org. See: https://github.com/scikit-learn/scikit-learn/issues/21755 */display: inline-block !important;position: relative;}#sk-container-id-1 div.sk-text-repr-fallback {display: none;}</style><div id=\"sk-container-id-1\" class=\"sk-top-container\"><div class=\"sk-text-repr-fallback\"><pre>Pipeline(steps=[(&#x27;preprocessor&#x27;,\n",
       "                 ColumnTransformer(transformers=[(&#x27;num&#x27;,\n",
       "                                                  Pipeline(steps=[(&#x27;imputer&#x27;,\n",
       "                                                                   SimpleImputer()),\n",
       "                                                                  (&#x27;scaler&#x27;,\n",
       "                                                                   StandardScaler())]),\n",
       "                                                  [&#x27;com_reg_ver_win_rate&#x27;,\n",
       "                                                   &#x27;historical_existing_cnt&#x27;,\n",
       "                                                   &#x27;lead_desc_length&#x27;,\n",
       "                                                   &#x27;ver_win_rate_x&#x27;,\n",
       "                                                   &#x27;ver_win_ratio_per_bu&#x27;]),\n",
       "                                                 (&#x27;cat&#x27;,\n",
       "                                                  Pipeline(steps=[(&#x27;imputer&#x27;,\n",
       "                                                                   SimpleImputer(strategy=&#x27;most_frequent&#x27;)),\n",
       "                                                                  (&#x27;onehot&#x27;,\n",
       "                                                                   OneHotEnc...\n",
       "                                                   &#x27;idit_strategic_ver&#x27;,\n",
       "                                                   &#x27;customer_job&#x27;,\n",
       "                                                   &#x27;inquiry_type&#x27;,\n",
       "                                                   &#x27;customer_position&#x27;,\n",
       "                                                   &#x27;response_corporate&#x27;,\n",
       "                                                   &#x27;expected_timeline&#x27;,\n",
       "                                                   &#x27;ver_cus&#x27;, &#x27;ver_pro&#x27;,\n",
       "                                                   &#x27;business_area&#x27;,\n",
       "                                                   &#x27;business_subarea&#x27;,\n",
       "                                                   &#x27;lead_owner&#x27;, &#x27;display&#x27;,\n",
       "                                                   &#x27;tv&#x27;, &#x27;temperature&#x27;, &#x27;air&#x27;,\n",
       "                                                   &#x27;beam&#x27;, &#x27;beauty&#x27;, &#x27;board&#x27;,\n",
       "                                                   &#x27;cloud&#x27;, &#x27;pc&#x27;, &#x27;software&#x27;,\n",
       "                                                   &#x27;refrigerator&#x27;, ...])])),\n",
       "                (&#x27;classifier&#x27;,\n",
       "                 &lt;catboost.core.CatBoostClassifier object at 0x7f1c4ef5cdc0&gt;)])</pre><b>In a Jupyter environment, please rerun this cell to show the HTML representation or trust the notebook. <br />On GitHub, the HTML representation is unable to render, please try loading this page with nbviewer.org.</b></div><div class=\"sk-container\" hidden><div class=\"sk-item sk-dashed-wrapped\"><div class=\"sk-label-container\"><div class=\"sk-label sk-toggleable\"><input class=\"sk-toggleable__control sk-hidden--visually\" id=\"sk-estimator-id-1\" type=\"checkbox\" ><label for=\"sk-estimator-id-1\" class=\"sk-toggleable__label sk-toggleable__label-arrow\">Pipeline</label><div class=\"sk-toggleable__content\"><pre>Pipeline(steps=[(&#x27;preprocessor&#x27;,\n",
       "                 ColumnTransformer(transformers=[(&#x27;num&#x27;,\n",
       "                                                  Pipeline(steps=[(&#x27;imputer&#x27;,\n",
       "                                                                   SimpleImputer()),\n",
       "                                                                  (&#x27;scaler&#x27;,\n",
       "                                                                   StandardScaler())]),\n",
       "                                                  [&#x27;com_reg_ver_win_rate&#x27;,\n",
       "                                                   &#x27;historical_existing_cnt&#x27;,\n",
       "                                                   &#x27;lead_desc_length&#x27;,\n",
       "                                                   &#x27;ver_win_rate_x&#x27;,\n",
       "                                                   &#x27;ver_win_ratio_per_bu&#x27;]),\n",
       "                                                 (&#x27;cat&#x27;,\n",
       "                                                  Pipeline(steps=[(&#x27;imputer&#x27;,\n",
       "                                                                   SimpleImputer(strategy=&#x27;most_frequent&#x27;)),\n",
       "                                                                  (&#x27;onehot&#x27;,\n",
       "                                                                   OneHotEnc...\n",
       "                                                   &#x27;idit_strategic_ver&#x27;,\n",
       "                                                   &#x27;customer_job&#x27;,\n",
       "                                                   &#x27;inquiry_type&#x27;,\n",
       "                                                   &#x27;customer_position&#x27;,\n",
       "                                                   &#x27;response_corporate&#x27;,\n",
       "                                                   &#x27;expected_timeline&#x27;,\n",
       "                                                   &#x27;ver_cus&#x27;, &#x27;ver_pro&#x27;,\n",
       "                                                   &#x27;business_area&#x27;,\n",
       "                                                   &#x27;business_subarea&#x27;,\n",
       "                                                   &#x27;lead_owner&#x27;, &#x27;display&#x27;,\n",
       "                                                   &#x27;tv&#x27;, &#x27;temperature&#x27;, &#x27;air&#x27;,\n",
       "                                                   &#x27;beam&#x27;, &#x27;beauty&#x27;, &#x27;board&#x27;,\n",
       "                                                   &#x27;cloud&#x27;, &#x27;pc&#x27;, &#x27;software&#x27;,\n",
       "                                                   &#x27;refrigerator&#x27;, ...])])),\n",
       "                (&#x27;classifier&#x27;,\n",
       "                 &lt;catboost.core.CatBoostClassifier object at 0x7f1c4ef5cdc0&gt;)])</pre></div></div></div><div class=\"sk-serial\"><div class=\"sk-item sk-dashed-wrapped\"><div class=\"sk-label-container\"><div class=\"sk-label sk-toggleable\"><input class=\"sk-toggleable__control sk-hidden--visually\" id=\"sk-estimator-id-2\" type=\"checkbox\" ><label for=\"sk-estimator-id-2\" class=\"sk-toggleable__label sk-toggleable__label-arrow\">preprocessor: ColumnTransformer</label><div class=\"sk-toggleable__content\"><pre>ColumnTransformer(transformers=[(&#x27;num&#x27;,\n",
       "                                 Pipeline(steps=[(&#x27;imputer&#x27;, SimpleImputer()),\n",
       "                                                 (&#x27;scaler&#x27;, StandardScaler())]),\n",
       "                                 [&#x27;com_reg_ver_win_rate&#x27;,\n",
       "                                  &#x27;historical_existing_cnt&#x27;, &#x27;lead_desc_length&#x27;,\n",
       "                                  &#x27;ver_win_rate_x&#x27;, &#x27;ver_win_ratio_per_bu&#x27;]),\n",
       "                                (&#x27;cat&#x27;,\n",
       "                                 Pipeline(steps=[(&#x27;imputer&#x27;,\n",
       "                                                  SimpleImputer(strategy=&#x27;most_frequent&#x27;)),\n",
       "                                                 (&#x27;onehot&#x27;,\n",
       "                                                  OneHotEncoder(handle_unknown=&#x27;ignore&#x27;))])...\n",
       "                                  &#x27;customer_type&#x27;, &#x27;enterprise&#x27;,\n",
       "                                  &#x27;id_strategic_ver&#x27;, &#x27;it_strategic_ver&#x27;,\n",
       "                                  &#x27;idit_strategic_ver&#x27;, &#x27;customer_job&#x27;,\n",
       "                                  &#x27;inquiry_type&#x27;, &#x27;customer_position&#x27;,\n",
       "                                  &#x27;response_corporate&#x27;, &#x27;expected_timeline&#x27;,\n",
       "                                  &#x27;ver_cus&#x27;, &#x27;ver_pro&#x27;, &#x27;business_area&#x27;,\n",
       "                                  &#x27;business_subarea&#x27;, &#x27;lead_owner&#x27;, &#x27;display&#x27;,\n",
       "                                  &#x27;tv&#x27;, &#x27;temperature&#x27;, &#x27;air&#x27;, &#x27;beam&#x27;, &#x27;beauty&#x27;,\n",
       "                                  &#x27;board&#x27;, &#x27;cloud&#x27;, &#x27;pc&#x27;, &#x27;software&#x27;,\n",
       "                                  &#x27;refrigerator&#x27;, ...])])</pre></div></div></div><div class=\"sk-parallel\"><div class=\"sk-parallel-item\"><div class=\"sk-item\"><div class=\"sk-label-container\"><div class=\"sk-label sk-toggleable\"><input class=\"sk-toggleable__control sk-hidden--visually\" id=\"sk-estimator-id-3\" type=\"checkbox\" ><label for=\"sk-estimator-id-3\" class=\"sk-toggleable__label sk-toggleable__label-arrow\">num</label><div class=\"sk-toggleable__content\"><pre>[&#x27;com_reg_ver_win_rate&#x27;, &#x27;historical_existing_cnt&#x27;, &#x27;lead_desc_length&#x27;, &#x27;ver_win_rate_x&#x27;, &#x27;ver_win_ratio_per_bu&#x27;]</pre></div></div></div><div class=\"sk-serial\"><div class=\"sk-item\"><div class=\"sk-serial\"><div class=\"sk-item\"><div class=\"sk-estimator sk-toggleable\"><input class=\"sk-toggleable__control sk-hidden--visually\" id=\"sk-estimator-id-4\" type=\"checkbox\" ><label for=\"sk-estimator-id-4\" class=\"sk-toggleable__label sk-toggleable__label-arrow\">SimpleImputer</label><div class=\"sk-toggleable__content\"><pre>SimpleImputer()</pre></div></div></div><div class=\"sk-item\"><div class=\"sk-estimator sk-toggleable\"><input class=\"sk-toggleable__control sk-hidden--visually\" id=\"sk-estimator-id-5\" type=\"checkbox\" ><label for=\"sk-estimator-id-5\" class=\"sk-toggleable__label sk-toggleable__label-arrow\">StandardScaler</label><div class=\"sk-toggleable__content\"><pre>StandardScaler()</pre></div></div></div></div></div></div></div></div><div class=\"sk-parallel-item\"><div class=\"sk-item\"><div class=\"sk-label-container\"><div class=\"sk-label sk-toggleable\"><input class=\"sk-toggleable__control sk-hidden--visually\" id=\"sk-estimator-id-6\" type=\"checkbox\" ><label for=\"sk-estimator-id-6\" class=\"sk-toggleable__label sk-toggleable__label-arrow\">cat</label><div class=\"sk-toggleable__content\"><pre>[&#x27;bant_submit&#x27;, &#x27;customer_country&#x27;, &#x27;business_unit&#x27;, &#x27;customer_idx&#x27;, &#x27;customer_type&#x27;, &#x27;enterprise&#x27;, &#x27;id_strategic_ver&#x27;, &#x27;it_strategic_ver&#x27;, &#x27;idit_strategic_ver&#x27;, &#x27;customer_job&#x27;, &#x27;inquiry_type&#x27;, &#x27;customer_position&#x27;, &#x27;response_corporate&#x27;, &#x27;expected_timeline&#x27;, &#x27;ver_cus&#x27;, &#x27;ver_pro&#x27;, &#x27;business_area&#x27;, &#x27;business_subarea&#x27;, &#x27;lead_owner&#x27;, &#x27;display&#x27;, &#x27;tv&#x27;, &#x27;temperature&#x27;, &#x27;air&#x27;, &#x27;beam&#x27;, &#x27;beauty&#x27;, &#x27;board&#x27;, &#x27;cloud&#x27;, &#x27;pc&#x27;, &#x27;software&#x27;, &#x27;refrigerator&#x27;, &#x27;robot&#x27;, &#x27;energy&#x27;, &#x27;other&#x27;, &#x27;parts_and_accessories&#x27;, &#x27;plug&#x27;, &#x27;appliances&#x27;, &#x27;hospital&#x27;, &#x27;services&#x27;]</pre></div></div></div><div class=\"sk-serial\"><div class=\"sk-item\"><div class=\"sk-serial\"><div class=\"sk-item\"><div class=\"sk-estimator sk-toggleable\"><input class=\"sk-toggleable__control sk-hidden--visually\" id=\"sk-estimator-id-7\" type=\"checkbox\" ><label for=\"sk-estimator-id-7\" class=\"sk-toggleable__label sk-toggleable__label-arrow\">SimpleImputer</label><div class=\"sk-toggleable__content\"><pre>SimpleImputer(strategy=&#x27;most_frequent&#x27;)</pre></div></div></div><div class=\"sk-item\"><div class=\"sk-estimator sk-toggleable\"><input class=\"sk-toggleable__control sk-hidden--visually\" id=\"sk-estimator-id-8\" type=\"checkbox\" ><label for=\"sk-estimator-id-8\" class=\"sk-toggleable__label sk-toggleable__label-arrow\">OneHotEncoder</label><div class=\"sk-toggleable__content\"><pre>OneHotEncoder(handle_unknown=&#x27;ignore&#x27;)</pre></div></div></div></div></div></div></div></div></div></div><div class=\"sk-item\"><div class=\"sk-estimator sk-toggleable\"><input class=\"sk-toggleable__control sk-hidden--visually\" id=\"sk-estimator-id-9\" type=\"checkbox\" ><label for=\"sk-estimator-id-9\" class=\"sk-toggleable__label sk-toggleable__label-arrow\">CatBoostClassifier</label><div class=\"sk-toggleable__content\"><pre>&lt;catboost.core.CatBoostClassifier object at 0x7f1c4ef5cdc0&gt;</pre></div></div></div></div></div></div></div>"
      ],
      "text/plain": [
       "Pipeline(steps=[('preprocessor',\n",
       "                 ColumnTransformer(transformers=[('num',\n",
       "                                                  Pipeline(steps=[('imputer',\n",
       "                                                                   SimpleImputer()),\n",
       "                                                                  ('scaler',\n",
       "                                                                   StandardScaler())]),\n",
       "                                                  ['com_reg_ver_win_rate',\n",
       "                                                   'historical_existing_cnt',\n",
       "                                                   'lead_desc_length',\n",
       "                                                   'ver_win_rate_x',\n",
       "                                                   'ver_win_ratio_per_bu']),\n",
       "                                                 ('cat',\n",
       "                                                  Pipeline(steps=[('imputer',\n",
       "                                                                   SimpleImputer(strategy='most_frequent')),\n",
       "                                                                  ('onehot',\n",
       "                                                                   OneHotEnc...\n",
       "                                                   'idit_strategic_ver',\n",
       "                                                   'customer_job',\n",
       "                                                   'inquiry_type',\n",
       "                                                   'customer_position',\n",
       "                                                   'response_corporate',\n",
       "                                                   'expected_timeline',\n",
       "                                                   'ver_cus', 'ver_pro',\n",
       "                                                   'business_area',\n",
       "                                                   'business_subarea',\n",
       "                                                   'lead_owner', 'display',\n",
       "                                                   'tv', 'temperature', 'air',\n",
       "                                                   'beam', 'beauty', 'board',\n",
       "                                                   'cloud', 'pc', 'software',\n",
       "                                                   'refrigerator', ...])])),\n",
       "                ('classifier',\n",
       "                 <catboost.core.CatBoostClassifier object at 0x7f1c4ef5cdc0>)])"
      ]
     },
     "execution_count": 37,
     "metadata": {},
     "output_type": "execute_result"
    }
   ],
   "source": [
    "pipeline.fit(x_train, y_train)"
   ]
  },
  {
   "cell_type": "code",
   "execution_count": 38,
   "id": "fdbf5ed2",
   "metadata": {
    "scrolled": false
   },
   "outputs": [],
   "source": [
    "y_val_pred = pipeline.predict(x_val)"
   ]
  },
  {
   "cell_type": "code",
   "execution_count": 39,
   "id": "6f70880b",
   "metadata": {},
   "outputs": [],
   "source": [
    "y_val_pred = (y_val_pred == 'True')\n",
    "\n",
    "# print(\"Classification Report:\\n\", classification_report(y_val, y_val_pred))\n",
    "# print(\"오차행렬:\\n\", confusion_matrix(y_val, y_val_pred, labels=[True, False]))\n",
    "# print(\"\\n정확도: {:.4f}\".format(accuracy_score(y_val, y_val_pred)))\n",
    "# print(\"정밀도: {:.4f}\".format(precision_score(y_val, y_val_pred, labels=[True, False])))\n",
    "# print(\"재현율: {:.4f}\".format(recall_score(y_val, y_val_pred)))\n",
    "# print(\"F1: {:.4f}\".format(f1_score(y_val, y_val_pred, labels=[True, False])))"
   ]
  },
  {
   "cell_type": "code",
   "execution_count": 40,
   "id": "a2f10be2",
   "metadata": {},
   "outputs": [
    {
     "name": "stdout",
     "output_type": "stream",
     "text": [
      "오차행렬:\n",
      " [[  635   312]\n",
      " [   37 10876]]\n",
      "\n",
      "정확도: 0.9706\n",
      "정밀도: 0.9449\n",
      "재현율: 0.6705\n",
      "F1: 0.7844\n"
     ]
    }
   ],
   "source": [
    "def get_clf_eval(y_test, y_pred=None):\n",
    "    confusion = confusion_matrix(y_test, y_pred, labels=[True, False])\n",
    "    accuracy = accuracy_score(y_test, y_pred)\n",
    "    precision = precision_score(y_test, y_pred, labels=[True, False])\n",
    "    recall = recall_score(y_test, y_pred)\n",
    "    F1 = f1_score(y_test, y_pred, labels=[True, False])\n",
    "\n",
    "    print(\"오차행렬:\\n\", confusion)\n",
    "    print(\"\\n정확도: {:.4f}\".format(accuracy))\n",
    "    print(\"정밀도: {:.4f}\".format(precision))\n",
    "    print(\"재현율: {:.4f}\".format(recall))\n",
    "    print(\"F1: {:.4f}\".format(F1))\n",
    "\n",
    "# pred = (model.predict(x_val.fillna(0)) == True)  # 문자열 레이블을 불리언으로 변환\n",
    "get_clf_eval(y_val, y_val_pred)\n"
   ]
  },
  {
   "cell_type": "markdown",
   "id": "da62a92c",
   "metadata": {},
   "source": [
    "-----------------------------------------------"
   ]
  },
  {
   "cell_type": "markdown",
   "id": "d644d302",
   "metadata": {},
   "source": [
    "- 정밀도와 재현율은 트레이드오프 관계"
   ]
  },
  {
   "cell_type": "markdown",
   "id": "7adf8300",
   "metadata": {},
   "source": [
    "## 4. 제출하기"
   ]
  },
  {
   "cell_type": "markdown",
   "id": "9d0b6e17",
   "metadata": {},
   "source": [
    "### 1) 테스트 데이터 예측"
   ]
  },
  {
   "cell_type": "code",
   "execution_count": 41,
   "id": "43daa73c",
   "metadata": {},
   "outputs": [],
   "source": [
    "# 예측에 필요한 데이터 분리\n",
    "x_test = df_test.drop([\"is_converted\", \"id\"], axis=1)"
   ]
  },
  {
   "cell_type": "code",
   "execution_count": 42,
   "id": "910efa8c",
   "metadata": {},
   "outputs": [
    {
     "data": {
      "text/plain": [
       "411"
      ]
     },
     "execution_count": 42,
     "metadata": {},
     "output_type": "execute_result"
    }
   ],
   "source": [
    "test_pred = pipeline.predict(x_test.fillna(0))\n",
    "sum(test_pred == 'True') # True로 예측된 개수\n"
   ]
  },
  {
   "cell_type": "markdown",
   "id": "47f18e6a",
   "metadata": {},
   "source": [
    "### 2) 제출 파일 작성"
   ]
  },
  {
   "cell_type": "code",
   "execution_count": 43,
   "id": "3128a458",
   "metadata": {},
   "outputs": [],
   "source": [
    "# 제출 데이터 읽어오기 (df_test는 전처리된 데이터가 저장됨)\n",
    "df_sub = pd.read_csv(\"submission.csv\")\n",
    "df_sub[\"is_converted\"] = test_pred\n",
    "\n",
    "# 제출 파일 저장\n",
    "df_sub.to_csv(\"submission.csv\", index=False)"
   ]
  }
 ],
 "metadata": {
  "kernelspec": {
   "display_name": "Python 3 (ipykernel)",
   "language": "python",
   "name": "python3"
  },
  "language_info": {
   "codemirror_mode": {
    "name": "ipython",
    "version": 3
   },
   "file_extension": ".py",
   "mimetype": "text/x-python",
   "name": "python",
   "nbconvert_exporter": "python",
   "pygments_lexer": "ipython3",
   "version": "3.10.13"
  }
 },
 "nbformat": 4,
 "nbformat_minor": 5
}
